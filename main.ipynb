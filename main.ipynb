{
 "cells": [
  {
   "cell_type": "code",
   "execution_count": 9,
   "metadata": {},
   "outputs": [],
   "source": [
    "import pandas as pd\n",
    "import numpy as np\n",
    "from hopfield import HopfieldNetwork\n",
    "\n",
    "data = pd.read_csv('Data/small-7x7.csv')\n",
    "patterns = data.to_numpy()\n",
    "\n",
    "network = HopfieldNetwork(49)\n",
    "network.train_hebbian_sync(patterns=patterns)\n",
    "retrieved_patterns = np.zeros((4,49))\n",
    "\n",
    "for i in range(len(patterns)):\n",
    "    retrieved_patterns[i] = network.recall(patterns[i])\n",
    "\n",
    "network.plot_patterns_as_bitmap(patterns=patterns)\n",
    "network.plot_patterns_as_bitmap(patterns=retrieved_patterns,save_path=\"retrieved_patterns.bmp\")\n"
   ]
  }
 ],
 "metadata": {
  "kernelspec": {
   "display_name": "Python 3",
   "language": "python",
   "name": "python3"
  },
  "language_info": {
   "codemirror_mode": {
    "name": "ipython",
    "version": 3
   },
   "file_extension": ".py",
   "mimetype": "text/x-python",
   "name": "python",
   "nbconvert_exporter": "python",
   "pygments_lexer": "ipython3",
   "version": "3.10.3"
  }
 },
 "nbformat": 4,
 "nbformat_minor": 2
}
